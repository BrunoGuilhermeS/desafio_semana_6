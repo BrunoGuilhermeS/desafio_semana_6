{
 "cells": [
  {
   "cell_type": "code",
   "id": "initial_id",
   "metadata": {
    "collapsed": true,
    "ExecuteTime": {
     "end_time": "2025-10-27T22:24:56.442975Z",
     "start_time": "2025-10-27T22:24:48.261703Z"
    }
   },
   "source": [
    "import pandas as pd\n",
    "import numpy as np"
   ],
   "outputs": [],
   "execution_count": 1
  },
  {
   "metadata": {
    "ExecuteTime": {
     "end_time": "2025-10-27T22:27:43.043055Z",
     "start_time": "2025-10-27T22:27:43.021993Z"
    }
   },
   "cell_type": "code",
   "source": [
    "df_categorias = pd.read_csv(\"../datasets/categorias.csv\")\n",
    "df_produtos = pd.read_csv(\"../datasets/produtos.csv\")\n",
    "df_vendas = pd.read_csv(\"../datasets/vendas.csv\")"
   ],
   "id": "75b81280702c690",
   "outputs": [],
   "execution_count": 4
  },
  {
   "metadata": {
    "ExecuteTime": {
     "end_time": "2025-10-27T22:35:28.333122Z",
     "start_time": "2025-10-27T22:35:22.789579Z"
    }
   },
   "cell_type": "code",
   "source": "df_produtos_categorias = pd.merge(df_categorias, df_produtos, on=\"id_categoria\")",
   "id": "497bd6d0418684b4",
   "outputs": [],
   "execution_count": 11
  },
  {
   "metadata": {
    "ExecuteTime": {
     "end_time": "2025-10-27T22:59:41.477927Z",
     "start_time": "2025-10-27T22:59:41.463824Z"
    }
   },
   "cell_type": "code",
   "source": [
    "media_estoque = df_produtos_categorias['estoque'].mean()\n",
    "\n",
    "produtos_abaixo_da_media = df_produtos_categorias.loc[df_produtos_categorias['estoque'] < media_estoque]#condição dentro do loc\n",
    "\n",
    "produtos_abaixo_da_media.head()\n"
   ],
   "id": "4f0e5c0792336cfb",
   "outputs": [
    {
     "data": {
      "text/plain": [
       "   id_categoria nome_categoria  id            nome  preco  estoque\n",
       "0             1    Eletrônicos   1   Notebook Dell   4500       12\n",
       "5             3   Imagem e Som   4     Monitor 24\"    890       15\n",
       "6             3   Imagem e Som   9  Webcam Full HD    310       14\n",
       "7             4         Móveis   5   Cadeira Gamer   1250        9\n",
       "9             5  Armazenamento   8          HD 1TB    280       19"
      ],
      "text/html": [
       "<div>\n",
       "<style scoped>\n",
       "    .dataframe tbody tr th:only-of-type {\n",
       "        vertical-align: middle;\n",
       "    }\n",
       "\n",
       "    .dataframe tbody tr th {\n",
       "        vertical-align: top;\n",
       "    }\n",
       "\n",
       "    .dataframe thead th {\n",
       "        text-align: right;\n",
       "    }\n",
       "</style>\n",
       "<table border=\"1\" class=\"dataframe\">\n",
       "  <thead>\n",
       "    <tr style=\"text-align: right;\">\n",
       "      <th></th>\n",
       "      <th>id_categoria</th>\n",
       "      <th>nome_categoria</th>\n",
       "      <th>id</th>\n",
       "      <th>nome</th>\n",
       "      <th>preco</th>\n",
       "      <th>estoque</th>\n",
       "    </tr>\n",
       "  </thead>\n",
       "  <tbody>\n",
       "    <tr>\n",
       "      <th>0</th>\n",
       "      <td>1</td>\n",
       "      <td>Eletrônicos</td>\n",
       "      <td>1</td>\n",
       "      <td>Notebook Dell</td>\n",
       "      <td>4500</td>\n",
       "      <td>12</td>\n",
       "    </tr>\n",
       "    <tr>\n",
       "      <th>5</th>\n",
       "      <td>3</td>\n",
       "      <td>Imagem e Som</td>\n",
       "      <td>4</td>\n",
       "      <td>Monitor 24\"</td>\n",
       "      <td>890</td>\n",
       "      <td>15</td>\n",
       "    </tr>\n",
       "    <tr>\n",
       "      <th>6</th>\n",
       "      <td>3</td>\n",
       "      <td>Imagem e Som</td>\n",
       "      <td>9</td>\n",
       "      <td>Webcam Full HD</td>\n",
       "      <td>310</td>\n",
       "      <td>14</td>\n",
       "    </tr>\n",
       "    <tr>\n",
       "      <th>7</th>\n",
       "      <td>4</td>\n",
       "      <td>Móveis</td>\n",
       "      <td>5</td>\n",
       "      <td>Cadeira Gamer</td>\n",
       "      <td>1250</td>\n",
       "      <td>9</td>\n",
       "    </tr>\n",
       "    <tr>\n",
       "      <th>9</th>\n",
       "      <td>5</td>\n",
       "      <td>Armazenamento</td>\n",
       "      <td>8</td>\n",
       "      <td>HD 1TB</td>\n",
       "      <td>280</td>\n",
       "      <td>19</td>\n",
       "    </tr>\n",
       "  </tbody>\n",
       "</table>\n",
       "</div>"
      ]
     },
     "execution_count": 25,
     "metadata": {},
     "output_type": "execute_result"
    }
   ],
   "execution_count": 25
  },
  {
   "metadata": {
    "ExecuteTime": {
     "end_time": "2025-10-27T22:36:28.597861Z",
     "start_time": "2025-10-27T22:36:28.586872Z"
    }
   },
   "cell_type": "code",
   "source": "preco_medio_categoria = df_produtos_categorias.groupby('nome_categoria')['preco'].mean()",
   "id": "8e81165193f3721a",
   "outputs": [],
   "execution_count": 13
  },
  {
   "metadata": {
    "ExecuteTime": {
     "end_time": "2025-10-27T22:43:29.245465Z",
     "start_time": "2025-10-27T22:43:29.238208Z"
    }
   },
   "cell_type": "code",
   "source": "df_produtos_categorias_vendas = pd.merge(df_produtos_categorias, df_vendas, left_on=\"id\", right_on=\"id_produto\")\n",
   "id": "d40f8d925d6a666e",
   "outputs": [],
   "execution_count": 16
  },
  {
   "metadata": {
    "ExecuteTime": {
     "end_time": "2025-10-27T22:46:04.522414Z",
     "start_time": "2025-10-27T22:46:04.514572Z"
    }
   },
   "cell_type": "code",
   "source": "df_produtos_categorias_vendas['valor_total'] = df_produtos_categorias_vendas['preco'] * df_produtos_categorias_vendas['quantidade']",
   "id": "c31f0a27fa270f79",
   "outputs": [],
   "execution_count": 17
  },
  {
   "metadata": {
    "ExecuteTime": {
     "end_time": "2025-10-27T22:53:34.827920Z",
     "start_time": "2025-10-27T22:53:34.813188Z"
    }
   },
   "cell_type": "code",
   "source": [
    "df_vendas_por_categoria = pd.pivot_table(\n",
    "    df_produtos_categorias_vendas,\n",
    "    index=[\"nome_categoria\"],\n",
    "    values=[\"valor_total\"],\n",
    "    aggfunc='sum'\n",
    ")\n",
    "\n",
    "df_vendas_por_categoria.head()"
   ],
   "id": "9c8d0461e151aa1f",
   "outputs": [
    {
     "data": {
      "text/plain": [
       "                valor_total\n",
       "nome_categoria             \n",
       "Armazenamento          1720\n",
       "Eletrônicos           25000\n",
       "Imagem e Som           1510\n",
       "Móveis                 2500\n",
       "Periféricos            3040"
      ],
      "text/html": [
       "<div>\n",
       "<style scoped>\n",
       "    .dataframe tbody tr th:only-of-type {\n",
       "        vertical-align: middle;\n",
       "    }\n",
       "\n",
       "    .dataframe tbody tr th {\n",
       "        vertical-align: top;\n",
       "    }\n",
       "\n",
       "    .dataframe thead th {\n",
       "        text-align: right;\n",
       "    }\n",
       "</style>\n",
       "<table border=\"1\" class=\"dataframe\">\n",
       "  <thead>\n",
       "    <tr style=\"text-align: right;\">\n",
       "      <th></th>\n",
       "      <th>valor_total</th>\n",
       "    </tr>\n",
       "    <tr>\n",
       "      <th>nome_categoria</th>\n",
       "      <th></th>\n",
       "    </tr>\n",
       "  </thead>\n",
       "  <tbody>\n",
       "    <tr>\n",
       "      <th>Armazenamento</th>\n",
       "      <td>1720</td>\n",
       "    </tr>\n",
       "    <tr>\n",
       "      <th>Eletrônicos</th>\n",
       "      <td>25000</td>\n",
       "    </tr>\n",
       "    <tr>\n",
       "      <th>Imagem e Som</th>\n",
       "      <td>1510</td>\n",
       "    </tr>\n",
       "    <tr>\n",
       "      <th>Móveis</th>\n",
       "      <td>2500</td>\n",
       "    </tr>\n",
       "    <tr>\n",
       "      <th>Periféricos</th>\n",
       "      <td>3040</td>\n",
       "    </tr>\n",
       "  </tbody>\n",
       "</table>\n",
       "</div>"
      ]
     },
     "execution_count": 24,
     "metadata": {},
     "output_type": "execute_result"
    }
   ],
   "execution_count": 24
  }
 ],
 "metadata": {
  "kernelspec": {
   "display_name": "Python 3",
   "language": "python",
   "name": "python3"
  },
  "language_info": {
   "codemirror_mode": {
    "name": "ipython",
    "version": 2
   },
   "file_extension": ".py",
   "mimetype": "text/x-python",
   "name": "python",
   "nbconvert_exporter": "python",
   "pygments_lexer": "ipython2",
   "version": "2.7.6"
  }
 },
 "nbformat": 4,
 "nbformat_minor": 5
}
